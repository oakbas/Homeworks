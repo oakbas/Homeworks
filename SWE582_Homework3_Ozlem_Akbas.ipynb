{
 "cells": [
  {
   "cell_type": "markdown",
   "metadata": {},
   "source": [
    "#### Ozlem Akbas\n",
    "SWE-582 HW3\n",
    "\n",
    "\n",
    "## Find Degree Of Equation\n",
    "\n",
    "There are N of $x_{i}$ and $y_{i}$ point, which fit a line, but we do not know the degree of the equation. We should find the degree, but for this method; higher degree always gives us the function which cause less error, \n",
    "\n",
    "From last lesson:\n",
    "\n",
    "$x_{i}$ and $y_{i}$ are Gaussian Distribution.\n",
    "\n",
    "\\begin{align*}\n",
    "y_{i} &=& a_{0} + a_{1}x^{1} + a_{2}x^{2} + ... + a_{n}x^{n} \\\\\n",
    "w_{i}^{T} &=& [1, x_{i}^{1}, x_{i}^{2}, ... ,x_{i}^{n}] \\\\\n",
    "y_{i} & \\sim & {\\cal N} (y, w_{i}^{T}a,s)\n",
    "\\\\\n",
    "\\end{align*}\n",
    "\n",
    "#### Gaussian Distribution\n",
    "\n",
    "\\begin{align*}\n",
    "{\\cal N}(x;\\mu, v) =  \\frac{1}{\\sqrt{2\\pi \\sigma^{2}}} \\exp\\left(-\\frac12 \\frac{(x - \\mu)^2}{\\sigma^{2}}\\right)\n",
    "\\end{align*}\n",
    "\n",
    "Log of Gaussian Distribution is:\n",
    "\n",
    "\\begin{align*}\n",
    "log ({\\cal N}(x;\\mu, v)) =  -\\frac{1}{2}log(2\\pi \\sigma^{2}) - \\frac{1}{2}{\\left(\\frac{x - \\mu}{\\sigma}\\right)}^{2}\n",
    "\\\\\n",
    "\\end{align*}\n",
    "Our model:\n",
    "\\begin{align*}\n",
    "p(y_{1:N}|a,x_{1:N}) &=& \\prod_{i=1}^N p(y_{i}|x_{i},a)\n",
    "\\end{align*}\n",
    "\n",
    "Likelyhood Function of a, if the data has the same variance 's' :\n",
    "\\begin{align*}\n",
    "{\\cal L} (a) &=& log(p(y_{1:N}|a,x_{1:N})) \\\\\n",
    "log({\\cal N} (y, w_{i}^{T}a,s)) &=& -\\frac{1}{2}log(2\\pi s) - \\frac{1}{2}{\\left(\\frac{x - \\mu}{s}\\right)}^{2} \\\\\n",
    "{\\cal L} (a) &=& - \\frac{N}{2}log(2\\pi s) - \\frac{1}{2s} \\sum_{i=1}^N (y_{i}-w_{i}^{T}a)^2 \\\\\n",
    "a &=& (W^TW)^{-1}W^{T}y\n",
    "\\end{align*}"
   ]
  },
  {
   "cell_type": "code",
   "execution_count": 28,
   "metadata": {
    "collapsed": false
   },
   "outputs": [
    {
     "data": {
      "image/png": "[encoded data removed]",
      "text/plain": [
       "<matplotlib.figure.Figure at 0x10467b3d0>"
      ]
     },
     "metadata": {},
     "output_type": "display_data"
    },
    {
     "name": "stdout",
     "output_type": "stream",
     "text": [
      "For 1 th degree -559.062405859\n",
      "For 2 th degree -63.8981441895\n",
      "For 3 th degree -0.579077175935\n",
      "For 4 th degree -0.519386831536\n",
      "For 5 th degree -0.467941674257\n",
      "For 6 th degree -0.337212141624\n",
      "For 7 th degree -0.334035076708\n",
      "For 8 th degree -0.2890057236\n"
     ]
    },
    {
     "data": {
      "image/png": "[encoded data removed]",
      "text/plain": [
       "<matplotlib.figure.Figure at 0x10692a150>"
      ]
     },
     "metadata": {},
     "output_type": "display_data"
    }
   ],
   "source": [
    "#Author Ozlem Akbas\n",
    "#Python 2 was used\n",
    "\n",
    "%matplotlib inline\n",
    "import numpy as np\n",
    "import matplotlib as mpl\n",
    "import matplotlib.pylab as plt\n",
    "import scipy.linalg as la\n",
    "\n",
    "N = 10\n",
    "K = 4\n",
    "s = 0.1\n",
    "\n",
    "x = np.arange(N)\n",
    "\n",
    "e = np.sqrt(s) * np.random.randn(N)\n",
    "\n",
    "# Data Generation which is taken from last lecture notes\n",
    "W = x.reshape((N,1))**np.arange(K).reshape(1,K)\n",
    "a = np.array([0,-1,0.5,0])\n",
    "y = np.dot(W, a) + e\n",
    "\n",
    "plt.plot(x, y, 'o')\n",
    "#plt.plot(e)\n",
    "plt.show()\n",
    "\n",
    "# a vector is calculated, for different degree of polinomial\n",
    "M = 9\n",
    "LL = np.zeros(M)\n",
    "for k in range(1,M):\n",
    "    W_prime = x.reshape((N,1))**np.arange(k).reshape(1,k)\n",
    "    a_prime,re,ra, cond = la.lstsq(W_prime, y)\n",
    "    a_prime\n",
    "    e = (y-np.dot(W_prime, a_prime))\n",
    "    LL[k] = -0.5*np.dot(e.T, e)\n",
    "    print 'For', k,'th degree',LL[k]\n",
    "\n",
    "plt.plot(LL)\n",
    "plt.ylabel('Likelyhood')\n",
    "plt.show()\n",
    "\n"
   ]
  },
  {
   "cell_type": "code",
   "execution_count": null,
   "metadata": {
    "collapsed": true
   },
   "outputs": [],
   "source": []
  }
 ],
 "metadata": {
  "kernelspec": {
   "display_name": "Python 2",
   "language": "python",
   "name": "python2"
  },
  "language_info": {
   "codemirror_mode": {
    "name": "ipython",
    "version": 2
   },
   "file_extension": ".py",
   "mimetype": "text/x-python",
   "name": "python",
   "nbconvert_exporter": "python",
   "pygments_lexer": "ipython2",
   "version": "2.7.10"
  }
 },
 "nbformat": 4,
 "nbformat_minor": 0
}
